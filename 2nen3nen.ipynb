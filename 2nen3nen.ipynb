{
  "nbformat": 4,
  "nbformat_minor": 0,
  "metadata": {
    "colab": {
      "name": "2nen3nen.ipynb",
      "provenance": [],
      "authorship_tag": "ABX9TyOp8Cg0+DhaMJsYFKcd4tK6",
      "include_colab_link": true
    },
    "kernelspec": {
      "name": "python3",
      "display_name": "Python 3"
    },
    "language_info": {
      "name": "python"
    }
  },
  "cells": [
    {
      "cell_type": "markdown",
      "metadata": {
        "id": "view-in-github",
        "colab_type": "text"
      },
      "source": [
        "<a href=\"https://colab.research.google.com/github/h30e07/E4sosei/blob/main/2nen3nen.ipynb\" target=\"_parent\"><img src=\"https://colab.research.google.com/assets/colab-badge.svg\" alt=\"Open In Colab\"/></a>"
      ]
    },
    {
      "cell_type": "code",
      "metadata": {
        "id": "gfssgJd4sdB7",
        "colab": {
          "base_uri": "https://localhost:8080/"
        },
        "outputId": "1b7ca6b7-ec88-4fad-fcee-9f0e78b3ca7d"
      },
      "source": [
        "from gensim.models.word2vec import Word2Vec\n",
        "import glob\n",
        "import pprint\n",
        "from google.colab import files\n",
        "import csv\n",
        "\n",
        "\"\"\"\n",
        "def tow_s_similarity(sa_path, sb_path):\n",
        "  with open(sa_path) as s1:\n",
        "    sa = s1.read()\n",
        "  \n",
        "  with open(sb_path) as s2:\n",
        "    sb = s2.read()\n",
        "  \n",
        "  sa_words = sa.split()\n",
        "  sb_words = sb.split()\n",
        "  print(sa_words)\n",
        "  print(sb_words)  \n",
        "  sum = 0\n",
        "\n",
        "  for sa_word in sa_words:\n",
        "    for sb_word in sb_words:\n",
        "      try:\n",
        "        similarity = w2v_model.similarity(sa_word, sb_word)\n",
        "        sum += similarity\n",
        "      except KeyError:\n",
        "        sum += 0\n",
        "\n",
        "  output = sum / (len(sa_words) * len(sb_words))\n",
        "\n",
        "  return output\n",
        "\"\"\"\n",
        "\n",
        "def syllabus_similarity(sa_path,sb_path):\n",
        "  with open(sa_path) as s1:\n",
        "    sa = s1.read()\n",
        "  \n",
        "  with open(sb_path) as s2:\n",
        "    sb = s2.read()\n",
        "\n",
        "  #set(集合)を使う。重複している単語は1つにまとまる\n",
        "  sa_words_set = set(sa.split())\n",
        "  sb_words_set = set(sb.split())\n",
        "\n",
        "  sa_remained_set = sa_words_set - (sa_words_set &  sb_words_set)\n",
        "  sb_remained_set = sb_words_set - (sa_words_set &  sb_words_set)\n",
        "\n",
        "  print(sa_remained_set)\n",
        "  print(sb_remained_set)\n",
        "\n",
        "  saTosb_sim = 1 - len(sa_remained_set)/len(sa_words_set)   #sa_words_setの単語数に対する、saとsbで共通していなかった単語数の割合を、1から引く\n",
        "  sbTosa_sim = 1 - len(sb_remained_set)/len(sb_words_set)   #sb_words_setの単語数に対する、saとsbで共通していなかった単語数の割合を、1から引く\n",
        "  similarity=0\n",
        "  if saTosb_sim != 1 and sbTosa_sim != 1:   #2つが部分集合出ないとき\n",
        "    for _a in sa_remained_set:\n",
        "      for _b in sb_remained_set:\n",
        "        try:\n",
        "          similarity += w2v_model.similarity(_a, _b)\n",
        "        except KeyError:\n",
        "          similarity += 0\n",
        "    similarity /= (len(sa_remained_set)*len(sb_remained_set))\n",
        "  \n",
        "  if (saTosb_sim != 1) ^ (sbTosa_sim != 1):  #部分集合で等しくはないとき\n",
        "    if saTosb_sim == 1:\n",
        "      remained_set = sa_remained_set\n",
        "    else:\n",
        "      remained_set = sb_remained_set\n",
        "    for _parent in sa_words_set &  sb_words_set:\n",
        "      for _child in remained_set:\n",
        "        try:\n",
        "          similarity += w2v_model.similarity(_parent, _child)\n",
        "        except KeyError:\n",
        "          similarity += 0\n",
        "    similarity /= (len(sa_remained_set)*len(sb_remained_set))\n",
        "  \n",
        "  saTosb_sim += similarity*len(sa_remained_set)/len(sa_words_set)\n",
        "  sbTosa_sim += similarity*len(sb_remained_set)/len(sb_words_set)\n",
        "\n",
        "  return saTosb_sim,sbTosa_sim   #戻り値はタプルになっている\n",
        "\n",
        "\n",
        "\n",
        "path = \"/content/drive/MyDrive/Pre-Trained Word2Vec Models/Pre-Trained Word2Vec Models/latest-ja-word2vec-gensim-model/word2vec.gensim.model\"\n",
        "w2v_model = Word2Vec.load(path)\n",
        "\n",
        "print(syllabus_similarity(\"/content/drive/MyDrive/meishi/meishi/meishi_3電気回路ⅠA(2078).txt\",\n",
        "                          \"/content/drive/MyDrive/meishi/meishi/meishi_3電気回路ⅠA(2078).txt\"))\n",
        "print(syllabus_similarity(\"/content/drive/MyDrive/meishi/meishi/meishi_3電気回路ⅠA(2078).txt\",\n",
        "                          \"/content/drive/MyDrive/meishi/meishi/meishi_3電気回路ⅠB(2079).txt\"))\n",
        "print(syllabus_similarity(\"/content/drive/MyDrive/meishi/meishi/meishi_3電気回路ⅠA(2078).txt\",\n",
        "                          \"/content/drive/MyDrive/meishi/meishi/meishi_2微分積分学ⅠA(0018).txt\"))"
      ],
      "execution_count": null,
      "outputs": [
        {
          "output_type": "stream",
          "name": "stdout",
          "text": [
            "set()\n",
            "set()\n",
            "(1.0, 1.0)\n",
            "{'５', '代表', '最大', '位相', '理解', '春', 'IA', '７', '平均', '基', 'ブリッジ', '共振', 'じめ', '２', '力率', '実効', '重ね', '周波', 'キルヒホッフ', '並列', '瞬時', '虚数', '網目', '枝', 'C', '2078', '二', '端子', '節点', '三角', '適用', 'stQ', '意味', '周期', '前期', '正弦', 'A', '重ね合わせ', '１１', '理', '素子', 'テブナン', 'レポート', '初等', 'Kirchhoff', 'ndQ', '複合', '電荷', '特徴', 'R', 'オーム', '定理', 'フェーザ', '９', '物理', '電位', '表示', '対', '部品', '量', 'L', '法則', '直列', '条件', '本', '各部', '逆', '29', '３', '夏'}\n",
            "{'Y', '14', 'テスト', '割合', '相互', '負荷', '2079', '特性', 'まとめ', 'rdQ', '対称', 'インダクタンス', 'インピーダンス', 'IB', '記号', '変換', '15', '後期', '結合', '冬', '極性', 'thQ', '発表', '４', '誘導', '各種', '％', 'B', '三', '変圧', 'コイル', '合計', '等価', '16'}\n",
            "(0.7470565570257528, 0.8550272723981885)\n",
            "{'位相', '併用', 'じめ', 'Blackboard', '並列', '電流', '知識', '虚数', '確認', '事前', '三角', '定着', '意味', '配布', '正弦', '重ね合わせ', '習熟', '素子', '電圧', '中間', 'R', '社', '特徴', 'フェーザ', '電位', '複素', '概念', '回路', '例', 'コロナ', '板書', '不足', '返却', '複雑', '細部', '平均', '２', '実効', '電子', 'キルヒホッフ', '網目', '2078', '達成', '二', '尚志', '菅谷', '柴田', '電力', '集中', 'テブナン', 'レポート', '直流', '以上', 'オーム', '演習', '最終', '量', '法則', '直列', '筆記', '逆', '基盤', '事象', '夏', '回', '５', '最大', '基', '主体', 'ブリッジ', '共振', '作成', '力率', 'ポイント', '瞬時', '全般', '実際', '原理', '枝', '採点', '端子', '適用', '節点', '電磁', '周期', '１１', '初等', 'もの', 'Kirchhoff', '複合', '伝達', '物理', '満点', '対', 'I', '条件', '本', '起電', '答案', '合格', '29', '気学', '３', '代表', 'パワー', '共通', '７', '交流', '解析', '平衡', '重ね', '周波', 'C', '指数', '理', '電荷', '時期', '９', '表示', '部品', 'L', '純一', '各部', '説明', '資料'}\n",
            "{'テスト', '抽象', '極限', '自然', '0', '操作', 'うち', '08', '佐々木', 'シリーズ', '場合', '若狭', '公式', '15', '馬場', '和', '発表', '応用', '進', '重点', '分数', '福地', '漸化', '総和', 'III', 'ポートフォリオ', '日頃', '一般', '連続', '随時', '数学', '相互', '上', '0018', '微分', '漸', '練習', '後', '数列', 'オフィス', '多少', '発散', '記号', '得点', '能力', '活用', 'B', '裕', '部分', '帰', '必要', '質問', '合計', '横断', '毎日', '和田', '納', '入り口', '解説', 'ため', '代数', '態度', 'こ', '課題', 'テキスト', '秋雄', '割合', 'II', '帰納', '同左', '収束', 'ニュー', '等差', '線形', '級数', '受験', '式', '16', '証明', '高専', '14', '吉田', '出版', '雅昭', '森北', '疑問', 'アワー', 'LEGEND', '分解', '例題', '和幸', '等比', '宿題', '努力', '事項', '積分', '必須', '雅生', '馬渕', '分野', '自分', 'アクション', '項'}\n"
          ]
        },
        {
          "output_type": "stream",
          "name": "stderr",
          "text": [
            "/usr/local/lib/python3.7/dist-packages/ipykernel_launcher.py:58: DeprecationWarning: Call to deprecated `similarity` (Method will be removed in 4.0.0, use self.wv.similarity() instead).\n"
          ]
        },
        {
          "output_type": "stream",
          "name": "stdout",
          "text": [
            "(0.526669056568759, 0.5698793056849867)\n"
          ]
        }
      ]
    },
    {
      "cell_type": "markdown",
      "metadata": {
        "id": "3YU7XERuuTF8"
      },
      "source": [
        "Google Drive マウント"
      ]
    },
    {
      "cell_type": "code",
      "metadata": {
        "id": "nbSi52W9t5HV",
        "colab": {
          "base_uri": "https://localhost:8080/"
        },
        "outputId": "96e1d031-3a72-4cbe-90a9-ba79b44ddfbe"
      },
      "source": [
        "from google.colab import drive\n",
        "drive.mount('/content/drive')"
      ],
      "execution_count": null,
      "outputs": [
        {
          "output_type": "stream",
          "name": "stdout",
          "text": [
            "Mounted at /content/drive\n"
          ]
        }
      ]
    }
  ]
}